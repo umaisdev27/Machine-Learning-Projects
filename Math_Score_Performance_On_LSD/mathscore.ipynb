{
 "cells": [
  {
   "cell_type": "code",
   "execution_count": 37,
   "id": "61d68c9f",
   "metadata": {},
   "outputs": [],
   "source": [
    "import pandas as pd\n",
    "import matplotlib.pyplot as plt\n",
    "from sklearn.linear_model import LinearRegression"
   ]
  },
  {
   "cell_type": "code",
   "execution_count": 38,
   "id": "a86c1d88",
   "metadata": {},
   "outputs": [
    {
     "name": "stdout",
     "output_type": "stream",
     "text": [
      "   Time_Delay_in_Minutes  LSD_ppm  Avg_Math_Test_Score\n",
      "0                      5     1.17                78.93\n",
      "1                     15     2.97                58.20\n",
      "2                     30     3.26                67.47\n",
      "3                     60     4.69                37.47\n",
      "4                    120     5.83                45.65\n",
      "5                    240     6.00                32.92\n",
      "6                    480     6.41                29.97\n"
     ]
    }
   ],
   "source": [
    "data = pd.read_csv('9.1 lsd_math_score_data.csv')\n",
    "print(data)"
   ]
  },
  {
   "cell_type": "code",
   "execution_count": 39,
   "id": "fde34f6b",
   "metadata": {},
   "outputs": [
    {
     "name": "stdout",
     "output_type": "stream",
     "text": [
      "0    78.93\n",
      "1    58.20\n",
      "2    67.47\n",
      "3    37.47\n",
      "4    45.65\n",
      "5    32.92\n",
      "6    29.97\n",
      "Name: Avg_Math_Test_Score, dtype: float64\n"
     ]
    }
   ],
   "source": [
    "onlymathscore=data['Avg_Math_Test_Score']\n",
    "print(onlymathscore)"
   ]
  },
  {
   "cell_type": "code",
   "execution_count": 40,
   "id": "1bb6d3ae",
   "metadata": {},
   "outputs": [
    {
     "name": "stdout",
     "output_type": "stream",
     "text": [
      "   Time_Delay_in_Minutes  LSD_ppm  Avg_Math_Test_Score Test Subject\n",
      "0                      5     1.17                78.93  abdul wahab\n",
      "1                     15     2.97                58.20  abdul wahab\n",
      "2                     30     3.26                67.47  abdul wahab\n",
      "3                     60     4.69                37.47  abdul wahab\n",
      "4                    120     5.83                45.65  abdul wahab\n",
      "5                    240     6.00                32.92  abdul wahab\n",
      "6                    480     6.41                29.97  abdul wahab\n"
     ]
    }
   ],
   "source": [
    "data['Test Subject'] = 'abdul wahab'\n",
    "print(data)"
   ]
  },
  {
   "cell_type": "code",
   "execution_count": 41,
   "id": "805720d6",
   "metadata": {},
   "outputs": [
    {
     "name": "stdout",
     "output_type": "stream",
     "text": [
      "   Time_Delay_in_Minutes  LSD_ppm  Avg_Math_Test_Score Test Subject  HighScore\n",
      "0                      5     1.17                78.93  abdul wahab        100\n",
      "1                     15     2.97                58.20  abdul wahab        100\n",
      "2                     30     3.26                67.47  abdul wahab        100\n",
      "3                     60     4.69                37.47  abdul wahab        100\n",
      "4                    120     5.83                45.65  abdul wahab        100\n",
      "5                    240     6.00                32.92  abdul wahab        100\n",
      "6                    480     6.41                29.97  abdul wahab        100\n"
     ]
    }
   ],
   "source": [
    "data['HighScore'] = 100\n",
    "print(data)"
   ]
  },
  {
   "cell_type": "code",
   "execution_count": 42,
   "id": "efed3f2b",
   "metadata": {},
   "outputs": [],
   "source": [
    "data['HighScore'] = data['HighScore'] + data['Avg_Math_Test_Score']\n"
   ]
  },
  {
   "cell_type": "code",
   "execution_count": 43,
   "id": "b83782de",
   "metadata": {},
   "outputs": [],
   "source": [
    "data['HighScore'] = data['HighScore'] **2"
   ]
  },
  {
   "cell_type": "code",
   "execution_count": 44,
   "id": "47dc8358",
   "metadata": {},
   "outputs": [
    {
     "name": "stdout",
     "output_type": "stream",
     "text": [
      "   Time_Delay_in_Minutes  LSD_ppm  Avg_Math_Test_Score Test Subject  \\\n",
      "0                      5     1.17                78.93  abdul wahab   \n",
      "1                     15     2.97                58.20  abdul wahab   \n",
      "2                     30     3.26                67.47  abdul wahab   \n",
      "3                     60     4.69                37.47  abdul wahab   \n",
      "4                    120     5.83                45.65  abdul wahab   \n",
      "5                    240     6.00                32.92  abdul wahab   \n",
      "6                    480     6.41                29.97  abdul wahab   \n",
      "\n",
      "    HighScore  \n",
      "0  32015.9449  \n",
      "1  25027.2400  \n",
      "2  28046.2009  \n",
      "3  18898.0009  \n",
      "4  21213.9225  \n",
      "5  17667.7264  \n",
      "6  16892.2009  \n"
     ]
    }
   ],
   "source": [
    "print(data)"
   ]
  },
  {
   "cell_type": "code",
   "execution_count": 45,
   "id": "cddc8e37",
   "metadata": {},
   "outputs": [
    {
     "name": "stdout",
     "output_type": "stream",
     "text": [
      "   Avg_Math_Test_Score  LSD_ppm\n",
      "0                78.93     1.17\n",
      "1                58.20     2.97\n",
      "2                67.47     3.26\n",
      "3                37.47     4.69\n",
      "4                45.65     5.83\n",
      "5                32.92     6.00\n",
      "6                29.97     6.41\n"
     ]
    }
   ],
   "source": [
    "data1 = data[['Avg_Math_Test_Score', 'LSD_ppm']]\n",
    "\n",
    "print(data1)"
   ]
  },
  {
   "cell_type": "code",
   "execution_count": 46,
   "id": "5fc7b078",
   "metadata": {},
   "outputs": [
    {
     "name": "stdout",
     "output_type": "stream",
     "text": [
      "   LSD_ppm\n",
      "0     1.17\n",
      "1     2.97\n",
      "2     3.26\n",
      "3     4.69\n",
      "4     5.83\n",
      "5     6.00\n",
      "6     6.41\n"
     ]
    },
    {
     "data": {
      "text/plain": [
       "pandas.core.frame.DataFrame"
      ]
     },
     "execution_count": 46,
     "metadata": {},
     "output_type": "execute_result"
    }
   ],
   "source": [
    "x = data[['LSD_ppm']]\n",
    "print(x)\n",
    "type(x)"
   ]
  },
  {
   "cell_type": "code",
   "execution_count": 47,
   "id": "a1233479",
   "metadata": {},
   "outputs": [],
   "source": [
    "y = data[['Avg_Math_Test_Score']]"
   ]
  },
  {
   "cell_type": "code",
   "execution_count": 48,
   "id": "21d1eff7",
   "metadata": {},
   "outputs": [
    {
     "name": "stdout",
     "output_type": "stream",
     "text": [
      "   Time_Delay_in_Minutes  LSD_ppm  Avg_Math_Test_Score   HighScore\n",
      "0                      5     1.17                78.93  32015.9449\n",
      "1                     15     2.97                58.20  25027.2400\n",
      "2                     30     3.26                67.47  28046.2009\n",
      "3                     60     4.69                37.47  18898.0009\n",
      "4                    120     5.83                45.65  21213.9225\n",
      "5                    240     6.00                32.92  17667.7264\n",
      "6                    480     6.41                29.97  16892.2009\n"
     ]
    }
   ],
   "source": [
    "del data['Test Subject']\n",
    "print(data)"
   ]
  },
  {
   "cell_type": "code",
   "execution_count": 49,
   "id": "bd54e5fe",
   "metadata": {},
   "outputs": [
    {
     "name": "stdout",
     "output_type": "stream",
     "text": [
      "   Time_Delay_in_Minutes  LSD_ppm  Avg_Math_Test_Score\n",
      "0                      5     1.17                78.93\n",
      "1                     15     2.97                58.20\n",
      "2                     30     3.26                67.47\n",
      "3                     60     4.69                37.47\n",
      "4                    120     5.83                45.65\n",
      "5                    240     6.00                32.92\n",
      "6                    480     6.41                29.97\n"
     ]
    }
   ],
   "source": [
    "del data['HighScore']\n",
    "print(data)"
   ]
  },
  {
   "cell_type": "code",
   "execution_count": 54,
   "id": "a96efa66",
   "metadata": {},
   "outputs": [],
   "source": [
    "time = data[['Time_Delay_in_Minutes']]\n",
    "lsd = data[['LSD_ppm']]\n",
    "score = data[['Avg_Math_Test_Score']]"
   ]
  },
  {
   "cell_type": "code",
   "execution_count": 51,
   "id": "7f0cbca5",
   "metadata": {},
   "outputs": [
    {
     "data": {
      "image/png": "[encoded data removed]",
      "text/plain": [
       "<Figure size 640x480 with 1 Axes>"
      ]
     },
     "metadata": {},
     "output_type": "display_data"
    }
   ],
   "source": [
    "%matplotlib inline\n",
    "\n",
    "plt.title('Tissue Concentration of LSD', fontsize=13)\n",
    "plt.plot(time,lsd, color='purple',linewidth=3)\n",
    "plt.xlabel('Time', fontsize=12)\n",
    "plt.ylabel('LSD', fontsize=13)\n",
    "plt.xticks(fontsize=12)\n",
    "plt.yticks(fontsize=12)\n",
    "\n",
    "plt.style.use('classic')\n",
    "plt.text(x=0,y=-0.5, s='By me', fontsize=12)\n",
    "plt.show()"
   ]
  },
  {
   "cell_type": "code",
   "execution_count": 80,
   "id": "9d5502d1",
   "metadata": {},
   "outputs": [
    {
     "name": "stdout",
     "output_type": "stream",
     "text": [
      "Theta1:  -9.009466415296783\n",
      "Intercept:  89.12387376799306\n",
      "R-Square:  0.8778349707775888\n"
     ]
    }
   ],
   "source": [
    "regr = LinearRegression()\n",
    "regr.fit(lsd, score)\n",
    "print('Theta1: ', regr.coef_[0][0])\n",
    "print('Intercept: ', regr.intercept_[0])\n",
    "print('R-Square: ', regr.score(lsd, score))\n",
    "predicted_score = regr.predict(lsd)"
   ]
  },
  {
   "cell_type": "code",
   "execution_count": 82,
   "id": "d5af83e2",
   "metadata": {},
   "outputs": [
    {
     "data": {
      "image/png": "[encoded data removed]",
      "text/plain": [
       "<Figure size 640x480 with 1 Axes>"
      ]
     },
     "metadata": {},
     "output_type": "display_data"
    }
   ],
   "source": [
    "%matplotlib inline\n",
    "\n",
    "plt.title('Arithmetic vs LSD-25', fontsize = 15)\n",
    "plt.xlabel('Tissue LSD_ppm', fontsize = 15)\n",
    "plt.ylabel('Performance Score', fontsize=15)\n",
    "plt.xlim(1,7)\n",
    "plt.ylim(25,85)\n",
    "plt.style.use('fivethirtyeight')\n",
    "plt.scatter(lsd, score , color = 'blue', s=100 , alpha=0.7)\n",
    "plt.plot(lsd, predicted_score, linewidth= 3)\n",
    "plt.show()"
   ]
  },
  {
   "cell_type": "code",
   "execution_count": null,
   "id": "45a684db",
   "metadata": {},
   "outputs": [],
   "source": []
  }
 ],
 "metadata": {
  "kernelspec": {
   "display_name": "Python 3",
   "language": "python",
   "name": "python3"
  },
  "language_info": {
   "codemirror_mode": {
    "name": "ipython",
    "version": 3
   },
   "file_extension": ".py",
   "mimetype": "text/x-python",
   "name": "python",
   "nbconvert_exporter": "python",
   "pygments_lexer": "ipython3",
   "version": "3.13.5"
  }
 },
 "nbformat": 4,
 "nbformat_minor": 5
}
